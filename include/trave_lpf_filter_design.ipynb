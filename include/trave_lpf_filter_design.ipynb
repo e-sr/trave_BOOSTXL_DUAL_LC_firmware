{
 "cells": [
  {
   "cell_type": "markdown",
   "metadata": {},
   "source": [
    "# Low pass filter design"
   ]
  },
  {
   "cell_type": "code",
   "execution_count": 80,
   "metadata": {},
   "outputs": [],
   "source": [
    "import scipy as sp\n",
    "import numpy as np\n",
    "from scipy.signal import kaiserord, lfilter, firwin, freqz,group_delay\n",
    "import matplotlib as mpl\n",
    "import matplotlib.pyplot as plt\n",
    "%matplotlib widget\n",
    "\n",
    "from pathlib import Path\n",
    "import pickle"
   ]
  },
  {
   "cell_type": "markdown",
   "metadata": {},
   "source": [
    "## Filters definition \n"
   ]
  },
  {
   "cell_type": "code",
   "execution_count": 90,
   "metadata": {},
   "outputs": [],
   "source": [
    "## Use firwin with a Kaiser window to create a lowpass FIR filter.\n",
    "taps_lpf_1600_400 = firwin(numtaps=80, cutoff=200 ,fs=1600)\n",
    "taps_lpf_400_200 = firwin(numtaps=64, cutoff=100 ,fs=400)\n",
    "taps_lpf_200_100 = firwin(numtaps=64, cutoff=50 ,fs=200)\n",
    "taps_lpf_100_50 = firwin(numtaps=64, cutoff=25 ,fs=100)\n",
    "taps_lpf = firwin(30,cutoff=50,window='hamming',fs=400)"
   ]
  },
  {
   "cell_type": "markdown",
   "metadata": {},
   "source": [
    "### Filter response"
   ]
  },
  {
   "cell_type": "code",
   "execution_count": 91,
   "metadata": {},
   "outputs": [
    {
     "data": {
      "application/vnd.jupyter.widget-view+json": {
       "model_id": "7fee454e758c402a822e746155757c5f",
       "version_major": 2,
       "version_minor": 0
      },
      "text/plain": [
       "FigureCanvasNbAgg()"
      ]
     },
     "metadata": {},
     "output_type": "display_data"
    },
    {
     "data": {
      "text/plain": [
       "Text(0, 0.5, 'Phase(angle)')"
      ]
     },
     "execution_count": 91,
     "metadata": {},
     "output_type": "execute_result"
    }
   ],
   "source": [
    "#------------------------------------------------\n",
    "# Plot the magnitude response of the filter.\n",
    "#------------------------------------------------\n",
    "fs = 1600\n",
    "taps = taps_lpf_1600_400\n",
    "nyq_rate=fs/2.0\n",
    "#\n",
    "f,(ax1,ax2,ax3) = plt.subplots(nrows=3,sharex=True)\n",
    "w, h = freqz(taps, worN=8000)\n",
    "ax1.plot((w/np.pi)*nyq_rate,20*np.log10(np.absolute(h)) , linewidth=2)\n",
    "ax2.plot((w/np.pi)*nyq_rate,np.absolute(h) , linewidth=2)\n",
    "ax2.set_xlabel('Frequency (Hz)')\n",
    "ax1.set_ylabel('Gain(dB)')\n",
    "ax2.set_ylabel('Gain')\n",
    "ax2.set_ylim(0.5, 1.005)\n",
    "ax3.plot((w/np.pi)*nyq_rate,np.unwrap(np.angle(h)) , linewidth=2)\n",
    "ax3.set_ylabel('Phase(angle)')\n",
    "\n"
   ]
  },
  {
   "cell_type": "markdown",
   "metadata": {},
   "source": [
    "### Header file generation"
   ]
  },
  {
   "cell_type": "code",
   "execution_count": 92,
   "metadata": {},
   "outputs": [],
   "source": [
    "f2IQ31= lambda x: int(x*(2**31-1))\n",
    "f2IQ31=np.vectorize(f2IQ31)\n",
    "\n",
    "def print_FIR_coef(x, name ,alternating=False,n=4):\n",
    "    s=\"#define\\tLPF_{}_ORDER\\t {}\\n\".format(name,len(x)-1)\n",
    "    s+=\"#define LPF_{}_COEF\\t{{\\\\\\n\".format(name)\n",
    "    if alternating:\n",
    "        y=x[::-1]\n",
    "    \n",
    "    for i,t in enumerate(y):\n",
    "        if i>0:\n",
    "            if (i+1)%n==0:\n",
    "                s+=\",\\\\\\n\".format(t)\n",
    "            else:\n",
    "                s+=\", \".format(t)\n",
    "        s+= str(t)\n",
    "    if s[-1]!=\"\\n\":\n",
    "        s+=\"}\"\n",
    "        \n",
    "    return s"
   ]
  },
  {
   "cell_type": "code",
   "execution_count": 93,
   "metadata": {},
   "outputs": [],
   "source": [
    "header_file_temp=\"\"\"#ifndef FIR_COEFS_H_ \n",
    "#define FIR_COEFS_H_\n",
    "\n",
    "/*\n",
    "Filter coefficients of the low pass filters oof the trave application \n",
    "This file is generated using the trave_lpf_filter_design.ipynb ipython notebook\n",
    "*/\n",
    "\n",
    "//decimations factors\n",
    "#define LPF_1600_TO_400_DECIMATION_FACTOR 4\n",
    "#define LPF__DECIMATION_FACTOR 4  \n",
    "\n",
    "//coefficients\n",
    "{}\n",
    "//------------\n",
    "{}\n",
    "\n",
    "#endif /* FIR_COEFS_H_ */\n",
    "\"\"\"\n",
    "columns=12\n",
    "header_file_s=header_file_temp.format(\n",
    "    print_FIR_coef(f2IQ31(taps_lpf_1600_400),\"1600_TO_400\",alternating=True,n=columns),\n",
    "    print_FIR_coef(f2IQ31(taps_lpf),\"\",alternating=True,n=columns),\n",
    "\n",
    ")"
   ]
  },
  {
   "cell_type": "code",
   "execution_count": 94,
   "metadata": {},
   "outputs": [],
   "source": [
    "#print(header_file_s)"
   ]
  },
  {
   "cell_type": "code",
   "execution_count": 95,
   "metadata": {},
   "outputs": [],
   "source": [
    "with  Path(\"\").parent.joinpath(\"lpf_filters_coefs.h\").open(\"w+\") as f:\n",
    "    f.write(header_file_s)"
   ]
  },
  {
   "cell_type": "code",
   "execution_count": 96,
   "metadata": {},
   "outputs": [
    {
     "name": "stdout",
     "output_type": "stream",
     "text": [
      "formato_lcd.ods      test_lpf_filters.ipynb         traveSM.h\n",
      "lpf_filters_coefs.h  trave_lpf_filter_design.ipynb\n"
     ]
    }
   ],
   "source": [
    "%ls"
   ]
  },
  {
   "cell_type": "code",
   "execution_count": null,
   "metadata": {},
   "outputs": [],
   "source": []
  }
 ],
 "metadata": {
  "kernelspec": {
   "display_name": "python3.7 myp",
   "language": "python",
   "name": "myp"
  },
  "language_info": {
   "codemirror_mode": {
    "name": "ipython",
    "version": 3
   },
   "file_extension": ".py",
   "mimetype": "text/x-python",
   "name": "python",
   "nbconvert_exporter": "python",
   "pygments_lexer": "ipython3",
   "version": "3.7.1"
  }
 },
 "nbformat": 4,
 "nbformat_minor": 2
}
