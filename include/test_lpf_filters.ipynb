{
 "cells": [
  {
   "cell_type": "markdown",
   "metadata": {},
   "source": [
    "# Trave signal processing "
   ]
  },
  {
   "cell_type": "code",
   "execution_count": 1,
   "metadata": {},
   "outputs": [],
   "source": [
    "import scipy as sp\n",
    "import numpy as np\n",
    "from scipy.signal import kaiserord, lfilter, firwin, freqz\n",
    "import matplotlib as mpl\n",
    "import matplotlib.pyplot as plt\n",
    "import matplotlib.animation as animation\n",
    "%matplotlib notebook\n",
    "\n",
    "from pathlib import Path\n",
    "import pickle"
   ]
  },
  {
   "cell_type": "markdown",
   "metadata": {},
   "source": [
    "## Filters definition \n"
   ]
  },
  {
   "cell_type": "code",
   "execution_count": 2,
   "metadata": {},
   "outputs": [],
   "source": [
    "# Use firwin with a Kaiser window to create a lowpass FIR filter.\n",
    "taps_lpf_1600_400 = firwin(numtaps=512, cutoff=400 ,fs=1600)\n",
    "taps_lpf_400_200 = firwin(numtaps=512, cutoff=100 ,fs=400)\n",
    "taps_lpf_200_100 = firwin(numtaps=512, cutoff=50 ,fs=200)\n",
    "taps_lpf_100_50 = firwin(numtaps=512, cutoff=25 ,fs=100)"
   ]
  },
  {
   "cell_type": "code",
   "execution_count": null,
   "metadata": {},
   "outputs": [],
   "source": []
  },
  {
   "cell_type": "code",
   "execution_count": null,
   "metadata": {},
   "outputs": [],
   "source": []
  },
  {
   "cell_type": "code",
   "execution_count": null,
   "metadata": {},
   "outputs": [],
   "source": [
    "file = Path().joinpath(\"Loadcellscarica.pkl\")\n",
    "with file.open(\"rb\") as f:\n",
    "    d=pickle.load(f )\n",
    "rec=d['samples']\n",
    "fs = d['datarate']\n",
    "print(\"Sample rate: {}.\".format(fs))\n",
    "nsamples = len(rec)\n",
    "t = np.arange(nsamples) / fs"
   ]
  },
  {
   "cell_type": "code",
   "execution_count": null,
   "metadata": {},
   "outputs": [],
   "source": [
    "# Use lfilter to filter x with the FIR filter.\n",
    "filtered_x = lfilter(taps, 1.0, rec)\n",
    "\n",
    "#------------------------------------------------\n",
    "# Plot the FIR filter coefficients.\n",
    "#------------------------------------------------\n",
    "\n",
    "figure(1)\n",
    "plot(taps, 'bo-', linewidth=2)\n",
    "title('Filter Coefficients (%d taps)' % N)\n",
    "grid(True)\n",
    "\n",
    "\n",
    "\n",
    "\n",
    "#------------------------------------------------\n",
    "# Plot the original and filtered signals.\n",
    "#------------------------------------------------\n",
    "\n",
    "# The phase delay of the filtered signal.\n",
    "delay = 0#0.5 * (N-1) / sample_rate\n",
    "\n",
    "figure(3)\n",
    "# Plot the original signal.\n",
    "plot(t, x)\n",
    "# Plot the filtered signal, shifted to compensate for the phase delay.\n",
    "plot(t-delay, filtered_x, 'r-')\n",
    "# Plot just the \"good\" part of the filtered signal.  The first N-1\n",
    "# samples are \"corrupted\" by the initial conditions.\n",
    "plot(t[N-1:]-delay, filtered_x[N-1:], 'g', linewidth=4)\n",
    "\n",
    "xlabel('t')\n",
    "grid(True)\n",
    "\n",
    "show()"
   ]
  }
 ],
 "metadata": {
  "kernelspec": {
   "display_name": "Python3.6 (myP)",
   "language": "python",
   "name": "myp"
  },
  "language_info": {
   "codemirror_mode": {
    "name": "ipython",
    "version": 3
   },
   "file_extension": ".py",
   "mimetype": "text/x-python",
   "name": "python",
   "nbconvert_exporter": "python",
   "pygments_lexer": "ipython3",
   "version": "3.6.5"
  }
 },
 "nbformat": 4,
 "nbformat_minor": 2
}
